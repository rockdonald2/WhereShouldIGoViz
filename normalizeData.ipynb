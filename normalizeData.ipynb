{
 "cells": [
  {
   "cell_type": "code",
   "execution_count": 1,
   "metadata": {},
   "outputs": [],
   "source": [
    "import pandas as pd"
   ]
  },
  {
   "cell_type": "code",
   "execution_count": 2,
   "metadata": {},
   "outputs": [],
   "source": [
    "qlf = {}\n",
    "\n",
    "counterYear = 2012\n",
    "endYear = 2020\n",
    "\n",
    "while counterYear <= endYear:\n",
    "  qlf[counterYear] = pd.read_csv(f'raw/{counterYear}.csv')\n",
    "  counterYear += 1"
   ]
  },
  {
   "cell_type": "code",
   "execution_count": 3,
   "metadata": {},
   "outputs": [],
   "source": [
    "counterYear = 2012\n",
    "endYear = 2020\n",
    "\n",
    "while counterYear <= endYear:\n",
    "  qlf[counterYear]['Year'] = counterYear\n",
    "  \n",
    "  counterYear += 1"
   ]
  },
  {
   "cell_type": "code",
   "execution_count": 4,
   "metadata": {},
   "outputs": [],
   "source": [
    "frames = []\n",
    "\n",
    "for key in qlf.keys():\n",
    "  frames.append(qlf[key])\n",
    "  \n",
    "mergedData = pd.concat(frames)"
   ]
  },
  {
   "cell_type": "code",
   "execution_count": 14,
   "metadata": {},
   "outputs": [
    {
     "name": "stdout",
     "output_type": "stream",
     "text": [
      "<class 'pandas.core.frame.DataFrame'>\n",
      "Int64Index: 606 entries, 0 to 79\n",
      "Data columns (total 11 columns):\n",
      " #   Column                          Non-Null Count  Dtype  \n",
      "---  ------                          --------------  -----  \n",
      " 0   Country                         606 non-null    object \n",
      " 1   Quality of Life Index           606 non-null    float64\n",
      " 2   Purchasing Power Index          606 non-null    float64\n",
      " 3   Safety Index                    606 non-null    float64\n",
      " 4   Health Care Index               606 non-null    float64\n",
      " 5   Cost of Living Index            606 non-null    float64\n",
      " 6   Property Price to Income Ratio  606 non-null    float64\n",
      " 7   Traffic Commute Time Index      606 non-null    float64\n",
      " 8   Pollution Index                 606 non-null    float64\n",
      " 9   Climate Index                   606 non-null    object \n",
      " 10  Year                            606 non-null    int64  \n",
      "dtypes: float64(8), int64(1), object(2)\n",
      "memory usage: 73.0+ KB\n"
     ]
    }
   ],
   "source": [
    "mergedData.info()"
   ]
  },
  {
   "cell_type": "code",
   "execution_count": 9,
   "metadata": {},
   "outputs": [],
   "source": [
    "mergedData.loc[mergedData['Climate Index'] == '-', 'Climate Index'] = -1"
   ]
  },
  {
   "cell_type": "code",
   "execution_count": 10,
   "metadata": {},
   "outputs": [],
   "source": [
    "mergedData['Climate Index'] = mergedData['Climate Index'].astype('float64')"
   ]
  },
  {
   "cell_type": "code",
   "execution_count": 62,
   "metadata": {},
   "outputs": [],
   "source": [
    "# a meglévő adatok mellett szükségem lesz még az ISO codeokra, s azt hiszem az ország koordinátákra, de ezt még megkell nézzem a korábbi térképes projektjeimnél, a koordináták csak a térkép esetében fontosak"
   ]
  },
  {
   "cell_type": "code",
   "execution_count": 12,
   "metadata": {},
   "outputs": [],
   "source": [
    "codes = pd.read_json('raw/codes.json', orient='index')\n",
    "codes = codes.reset_index()\n",
    "codes = codes.rename(columns={'index': 'Code', 0: 'Country'})"
   ]
  },
  {
   "cell_type": "code",
   "execution_count": 13,
   "metadata": {},
   "outputs": [],
   "source": [
    "mergedData.loc[mergedData['Country'] == 'Russia', 'Country'] = 'Russian Federation'\n",
    "mergedData.loc[mergedData['Country'] == 'United States', 'Country'] = 'United States of America'\n",
    "mergedData.loc[mergedData['Country'] == 'United Kingdom', 'Country'] = 'United Kingdom of Great Britain'\n",
    "mergedData.loc[mergedData['Country'] == 'Czech Republic', 'Country'] = 'Czechia'\n",
    "mergedData.loc[mergedData['Country'] == 'Bosnia And Herzegovina', 'Country'] = 'Bosnia and Herzegovina'\n",
    "mergedData.loc[mergedData['Country'] == 'South Korea', 'Country'] = 'Korea, Republic of'\n",
    "mergedData.loc[mergedData['Country'] == 'Vietnam', 'Country'] = 'Viet Nam'\n",
    "mergedData.loc[mergedData['Country'] == 'Iran', 'Country'] = 'Iran (Islamic Republic of)'\n",
    "mergedData.loc[mergedData['Country'] == 'Moldova', 'Country'] = 'Moldova, Republic of'\n",
    "mergedData.loc[mergedData['Country'] == 'Venezuela', 'Country'] = 'Venezuela (Bolivarian Republic of)'\n",
    "mergedData.loc[mergedData['Country'] == 'Bolivia', 'Country'] = 'Bolivia (Plurinational State of)'"
   ]
  },
  {
   "cell_type": "code",
   "execution_count": 14,
   "metadata": {},
   "outputs": [],
   "source": [
    "mergedData = mergedData.merge(codes, how='left', left_on='Country', right_on='Country')"
   ]
  },
  {
   "cell_type": "code",
   "execution_count": 77,
   "metadata": {},
   "outputs": [
    {
     "name": "stdout",
     "output_type": "stream",
     "text": [
      "<class 'pandas.core.frame.DataFrame'>\n",
      "Int64Index: 606 entries, 0 to 605\n",
      "Data columns (total 12 columns):\n",
      " #   Column                          Non-Null Count  Dtype  \n",
      "---  ------                          --------------  -----  \n",
      " 0   Country                         606 non-null    object \n",
      " 1   Quality of Life Index           606 non-null    float64\n",
      " 2   Purchasing Power Index          606 non-null    float64\n",
      " 3   Safety Index                    606 non-null    float64\n",
      " 4   Health Care Index               606 non-null    float64\n",
      " 5   Cost of Living Index            606 non-null    float64\n",
      " 6   Property Price to Income Ratio  606 non-null    float64\n",
      " 7   Traffic Commute Time Index      606 non-null    float64\n",
      " 8   Pollution Index                 606 non-null    float64\n",
      " 9   Climate Index                   606 non-null    float64\n",
      " 10  Year                            606 non-null    int64  \n",
      " 11  Code                            606 non-null    object \n",
      "dtypes: float64(9), int64(1), object(2)\n",
      "memory usage: 61.5+ KB\n"
     ]
    }
   ],
   "source": [
    "mergedData.info()"
   ]
  },
  {
   "cell_type": "code",
   "execution_count": 15,
   "metadata": {},
   "outputs": [
    {
     "data": {
      "text/plain": [
       "Series([], Name: Country, dtype: object)"
      ]
     },
     "execution_count": 15,
     "metadata": {},
     "output_type": "execute_result"
    }
   ],
   "source": [
    "mergedData.loc[mergedData['Code'].isnull(), 'Country']"
   ]
  },
  {
   "cell_type": "code",
   "execution_count": 79,
   "metadata": {},
   "outputs": [],
   "source": [
    "mergedData.to_csv('raw/mergedButRaw.csv', index = False)"
   ]
  },
  {
   "cell_type": "code",
   "execution_count": 18,
   "metadata": {},
   "outputs": [],
   "source": [
    "gdp = pd.read_csv('raw/gdp.csv')\n",
    "gdp.drop(labels=list(map(lambda x : str(x), range(1960, 2011))), axis=1, inplace=True)\n",
    "gdp.drop(labels=['Country Name'], axis=1, inplace=True)"
   ]
  },
  {
   "cell_type": "code",
   "execution_count": 20,
   "metadata": {},
   "outputs": [],
   "source": [
    "gdp = gdp.melt(id_vars=['Country Code'], value_vars=list(map(lambda x : str(x), range(2011, 2021))), var_name='Year', value_name='GDP').sort_values(['Country Code', 'Year'])"
   ]
  },
  {
   "cell_type": "code",
   "execution_count": 18,
   "metadata": {},
   "outputs": [],
   "source": [
    "gdp = gdp.round({'GDP': 2})\n",
    "gdp['Year'] = gdp['Year'].astype('int64')"
   ]
  },
  {
   "cell_type": "code",
   "execution_count": 19,
   "metadata": {},
   "outputs": [],
   "source": [
    "gdp = gdp.merge(mergedData, how='right', left_on=['Country Code', 'Year'], right_on=['Code', 'Year'])"
   ]
  },
  {
   "cell_type": "code",
   "execution_count": 20,
   "metadata": {},
   "outputs": [],
   "source": [
    "gdp.drop(labels=['Country Code'], axis=1, inplace=True)"
   ]
  },
  {
   "cell_type": "code",
   "execution_count": 21,
   "metadata": {},
   "outputs": [],
   "source": [
    "normalizedData = gdp"
   ]
  },
  {
   "cell_type": "code",
   "execution_count": 151,
   "metadata": {},
   "outputs": [],
   "source": [
    "normalizedData.to_csv('normalized/normalized.csv', index=False)\n",
    "normalizedData.to_json('normalized/normalized.json', orient='records')"
   ]
  },
  {
   "cell_type": "code",
   "execution_count": 22,
   "metadata": {},
   "outputs": [
    {
     "data": {
      "text/html": [
       "<div>\n",
       "<style scoped>\n",
       "    .dataframe tbody tr th:only-of-type {\n",
       "        vertical-align: middle;\n",
       "    }\n",
       "\n",
       "    .dataframe tbody tr th {\n",
       "        vertical-align: top;\n",
       "    }\n",
       "\n",
       "    .dataframe thead th {\n",
       "        text-align: right;\n",
       "    }\n",
       "</style>\n",
       "<table border=\"1\" class=\"dataframe\">\n",
       "  <thead>\n",
       "    <tr style=\"text-align: right;\">\n",
       "      <th></th>\n",
       "      <th>Ország / Régió</th>\n",
       "      <th>Numerikus</th>\n",
       "      <th>Alpha-3</th>\n",
       "      <th>Alpha-2</th>\n",
       "      <th>Helyi ISO kódok</th>\n",
       "    </tr>\n",
       "  </thead>\n",
       "  <tbody>\n",
       "    <tr>\n",
       "      <th>0</th>\n",
       "      <td>Afganisztán</td>\n",
       "      <td>4</td>\n",
       "      <td>AFG</td>\n",
       "      <td>AF</td>\n",
       "      <td>ISO 3166-2:AF</td>\n",
       "    </tr>\n",
       "    <tr>\n",
       "      <th>1</th>\n",
       "      <td>Åland</td>\n",
       "      <td>248</td>\n",
       "      <td>ALA</td>\n",
       "      <td>AX</td>\n",
       "      <td>ISO 3166-2:AX</td>\n",
       "    </tr>\n",
       "    <tr>\n",
       "      <th>2</th>\n",
       "      <td>Albánia</td>\n",
       "      <td>8</td>\n",
       "      <td>ALB</td>\n",
       "      <td>AL</td>\n",
       "      <td>ISO 3166-2:AL</td>\n",
       "    </tr>\n",
       "    <tr>\n",
       "      <th>3</th>\n",
       "      <td>Algéria</td>\n",
       "      <td>12</td>\n",
       "      <td>DZA</td>\n",
       "      <td>DZ</td>\n",
       "      <td>ISO 3166-2:DZ</td>\n",
       "    </tr>\n",
       "    <tr>\n",
       "      <th>4</th>\n",
       "      <td>Amerikai Csendes-óceáni szigetek</td>\n",
       "      <td>581</td>\n",
       "      <td>UMI</td>\n",
       "      <td>UM</td>\n",
       "      <td>ISO 3166-2:UM</td>\n",
       "    </tr>\n",
       "    <tr>\n",
       "      <th>...</th>\n",
       "      <td>...</td>\n",
       "      <td>...</td>\n",
       "      <td>...</td>\n",
       "      <td>...</td>\n",
       "      <td>...</td>\n",
       "    </tr>\n",
       "    <tr>\n",
       "      <th>246</th>\n",
       "      <td>Vietnám</td>\n",
       "      <td>704</td>\n",
       "      <td>VNM</td>\n",
       "      <td>VN</td>\n",
       "      <td>ISO 3166-2:VN</td>\n",
       "    </tr>\n",
       "    <tr>\n",
       "      <th>247</th>\n",
       "      <td>Wallis és Futuna</td>\n",
       "      <td>876</td>\n",
       "      <td>WLF</td>\n",
       "      <td>WF</td>\n",
       "      <td>ISO 3166-2:WF</td>\n",
       "    </tr>\n",
       "    <tr>\n",
       "      <th>248</th>\n",
       "      <td>Zambia</td>\n",
       "      <td>894</td>\n",
       "      <td>ZMB</td>\n",
       "      <td>ZM</td>\n",
       "      <td>ISO 3166-2:ZM</td>\n",
       "    </tr>\n",
       "    <tr>\n",
       "      <th>249</th>\n",
       "      <td>Zimbabwe</td>\n",
       "      <td>716</td>\n",
       "      <td>ZWE</td>\n",
       "      <td>ZW</td>\n",
       "      <td>ISO 3166-2:ZW</td>\n",
       "    </tr>\n",
       "    <tr>\n",
       "      <th>250</th>\n",
       "      <td>Zöld-foki Köztársaság</td>\n",
       "      <td>132</td>\n",
       "      <td>CPV</td>\n",
       "      <td>CV</td>\n",
       "      <td>ISO 3166-2:CV</td>\n",
       "    </tr>\n",
       "  </tbody>\n",
       "</table>\n",
       "<p>251 rows × 5 columns</p>\n",
       "</div>"
      ],
      "text/plain": [
       "                       Ország / Régió  Numerikus Alpha-3 Alpha-2  \\\n",
       "0                         Afganisztán          4     AFG      AF   \n",
       "1                               Åland        248     ALA      AX   \n",
       "2                             Albánia          8     ALB      AL   \n",
       "3                             Algéria         12     DZA      DZ   \n",
       "4    Amerikai Csendes-óceáni szigetek        581     UMI      UM   \n",
       "..                                ...        ...     ...     ...   \n",
       "246                           Vietnám        704     VNM      VN   \n",
       "247                  Wallis és Futuna        876     WLF      WF   \n",
       "248                            Zambia        894     ZMB      ZM   \n",
       "249                          Zimbabwe        716     ZWE      ZW   \n",
       "250             Zöld-foki Köztársaság        132     CPV      CV   \n",
       "\n",
       "    Helyi ISO kódok  \n",
       "0     ISO 3166-2:AF  \n",
       "1     ISO 3166-2:AX  \n",
       "2     ISO 3166-2:AL  \n",
       "3     ISO 3166-2:DZ  \n",
       "4     ISO 3166-2:UM  \n",
       "..              ...  \n",
       "246   ISO 3166-2:VN  \n",
       "247   ISO 3166-2:WF  \n",
       "248   ISO 3166-2:ZM  \n",
       "249   ISO 3166-2:ZW  \n",
       "250   ISO 3166-2:CV  \n",
       "\n",
       "[251 rows x 5 columns]"
      ]
     },
     "execution_count": 22,
     "metadata": {},
     "output_type": "execute_result"
    }
   ],
   "source": [
    "hunISO = pd.read_csv('raw/hungarianISO.csv')\n",
    "hunISO"
   ]
  },
  {
   "cell_type": "code",
   "execution_count": 23,
   "metadata": {},
   "outputs": [],
   "source": [
    "hunISO.drop(labels=['Helyi ISO kódok', 'Alpha-2', 'Numerikus'], axis=1, inplace=True)"
   ]
  },
  {
   "cell_type": "code",
   "execution_count": 24,
   "metadata": {},
   "outputs": [],
   "source": [
    "hunISO.rename(columns={'Ország / Régió': 'Country'}, inplace=True)"
   ]
  },
  {
   "cell_type": "code",
   "execution_count": 25,
   "metadata": {},
   "outputs": [],
   "source": [
    "hunISO.rename(columns={'Alpha-3': 'Code'}, inplace=True)"
   ]
  },
  {
   "cell_type": "code",
   "execution_count": 26,
   "metadata": {},
   "outputs": [],
   "source": [
    "merged = normalizedData.merge(hunISO, how='left', left_on='Code', right_on='Code')"
   ]
  },
  {
   "cell_type": "code",
   "execution_count": 28,
   "metadata": {},
   "outputs": [],
   "source": [
    "merged.rename(columns={'Country_x': 'Country_EN', 'Country_y': 'Country_HU'}, inplace=True)"
   ]
  },
  {
   "cell_type": "code",
   "execution_count": 30,
   "metadata": {},
   "outputs": [],
   "source": [
    "merged.to_csv('normalized/normalized.csv', index=False)\n",
    "merged.to_json('normalized/normalized.json', orient='records')"
   ]
  }
 ],
 "metadata": {
  "interpreter": {
   "hash": "63fd5069d213b44bf678585dea6b12cceca9941eaf7f819626cde1f2670de90d"
  },
  "kernelspec": {
   "display_name": "Python 3.9.7 64-bit",
   "language": "python",
   "name": "python3"
  },
  "language_info": {
   "codemirror_mode": {
    "name": "ipython",
    "version": 3
   },
   "file_extension": ".py",
   "mimetype": "text/x-python",
   "name": "python",
   "nbconvert_exporter": "python",
   "pygments_lexer": "ipython3",
   "version": "3.9.7"
  },
  "orig_nbformat": 4
 },
 "nbformat": 4,
 "nbformat_minor": 2
}
