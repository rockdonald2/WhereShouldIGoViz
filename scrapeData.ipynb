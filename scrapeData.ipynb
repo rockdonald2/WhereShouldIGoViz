{
 "cells": [
  {
   "cell_type": "code",
   "execution_count": 4,
   "metadata": {},
   "outputs": [],
   "source": [
    "import requests\n",
    "from bs4 import BeautifulSoup"
   ]
  },
  {
   "cell_type": "code",
   "execution_count": 3,
   "metadata": {},
   "outputs": [],
   "source": [
    "def scrapeData(year):\n",
    "  URL = f'https://www.numbeo.com/quality-of-life/rankings_by_country.jsp?title={year}'\n",
    "  page = requests.get(URL)\n",
    "  soup = BeautifulSoup(page.content, 'html.parser')\n",
    "  \n",
    "  table = soup.find('table', id='t2')\n",
    "  tableContent = table.find('tbody')\n",
    "  tableRows = tableContent.find_all(\"tr\")\n",
    "  \n",
    "  data = []\n",
    "  for tableRow in tableRows:\n",
    "    data.append(list(filter(lambda row : (row != ''), tableRow.text.split('\\n'))))\n",
    "    \n",
    "  return data"
   ]
  },
  {
   "cell_type": "code",
   "execution_count": 4,
   "metadata": {},
   "outputs": [],
   "source": [
    "def scrapeHeadings():\n",
    "  URL = f'https://www.numbeo.com/quality-of-life/rankings_by_country.jsp?title=2020'\n",
    "  page = requests.get(URL)\n",
    "  soup = BeautifulSoup(page.content, 'html.parser')\n",
    "  \n",
    "  table = soup.find('table', id='t2')\n",
    "  tableHeadings = table.find('thead')\n",
    "  tableHeadingsRow = tableHeadings.find('tr')\n",
    "  \n",
    "  headings = tableHeadingsRow.text.split('\\n')[2:-1]\n",
    "  \n",
    "  return headings"
   ]
  },
  {
   "cell_type": "code",
   "execution_count": 5,
   "metadata": {},
   "outputs": [],
   "source": [
    "counterYear = 2014\n",
    "endYear = 2020\n",
    "\n",
    "data = {}\n",
    "\n",
    "data[2012] = scrapeData('2012-Q1')\n",
    "data[2013] = scrapeData('2013-Q1')\n",
    "\n",
    "while counterYear <= endYear:\n",
    "  data[counterYear] = scrapeData(counterYear)\n",
    "  counterYear += 1\n",
    "  \n",
    "headings = scrapeHeadings()"
   ]
  },
  {
   "cell_type": "code",
   "execution_count": 13,
   "metadata": {},
   "outputs": [],
   "source": [
    "import csv"
   ]
  },
  {
   "cell_type": "code",
   "execution_count": 11,
   "metadata": {},
   "outputs": [],
   "source": [
    "counterYear = 2012\n",
    "endYear = 2020\n",
    "\n",
    "while counterYear <= endYear:\n",
    "  with open(f'{counterYear}.csv', 'w', newline='') as outputFile:\n",
    "    writer = csv.writer(outputFile)\n",
    "    \n",
    "    writer.writerow(headings)\n",
    "    \n",
    "    for row in data[counterYear]:\n",
    "        writer.writerow(row)\n",
    "  \n",
    "  counterYear += 1"
   ]
  },
  {
   "cell_type": "code",
   "execution_count": 6,
   "metadata": {},
   "outputs": [],
   "source": [
    "def scrapeHunISO():\n",
    "  URL = 'https://hu.wikipedia.org/wiki/ISO_3166-1'\n",
    "  page = requests.get(URL)\n",
    "  soup = BeautifulSoup(page.content, 'html.parser')\n",
    "  \n",
    "  table = soup.find('table', class_='wikitable')\n",
    "  tableContent = table.find('tbody')\n",
    "  tableRows = tableContent.find_all(\"tr\")\n",
    "  \n",
    "  data = []\n",
    "  for tableRow in tableRows:\n",
    "    data.append(list(map(lambda row : str.strip(row), filter(lambda row : (row != ''), tableRow.text.split('\\n')))))\n",
    "    \n",
    "  return data"
   ]
  },
  {
   "cell_type": "code",
   "execution_count": 2,
   "metadata": {},
   "outputs": [],
   "source": [
    "import unicodecsv as csv"
   ]
  },
  {
   "cell_type": "code",
   "execution_count": 27,
   "metadata": {},
   "outputs": [],
   "source": [
    "data = scrapeHunISO()\n",
    "\n",
    "with open('raw/hungarianISO.csv', 'wb') as outputFile:\n",
    "  writer = csv.writer(outputFile, encoding='utf-8')\n",
    "  \n",
    "  for row in data:\n",
    "    writer.writerow(row)"
   ]
  }
 ],
 "metadata": {
  "interpreter": {
   "hash": "63fd5069d213b44bf678585dea6b12cceca9941eaf7f819626cde1f2670de90d"
  },
  "kernelspec": {
   "display_name": "Python 3.9.7 64-bit",
   "language": "python",
   "name": "python3"
  },
  "language_info": {
   "codemirror_mode": {
    "name": "ipython",
    "version": 3
   },
   "file_extension": ".py",
   "mimetype": "text/x-python",
   "name": "python",
   "nbconvert_exporter": "python",
   "pygments_lexer": "ipython3",
   "version": "3.9.7"
  },
  "orig_nbformat": 4
 },
 "nbformat": 4,
 "nbformat_minor": 2
}
